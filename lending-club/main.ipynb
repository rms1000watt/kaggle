{
 "cells": [
  {
   "cell_type": "markdown",
   "metadata": {},
   "source": [
    "# Lending Club Analysis\n",
    "\n",
    "## Introduction\n",
    "\n",
    "This is an initial run through of the Lending Club data\n",
    "\n",
    "## Contents\n",
    "\n",
    "- Imports\n",
    "- Helper Functions\n",
    "- Data Exploration"
   ]
  },
  {
   "cell_type": "markdown",
   "metadata": {},
   "source": [
    "## Imports"
   ]
  },
  {
   "cell_type": "code",
   "execution_count": 1,
   "metadata": {},
   "outputs": [],
   "source": [
    "import os\n",
    "import ryan\n",
    "import numpy as np\n",
    "import pandas as pd\n",
    "import seaborn as sns\n",
    "import matplotlib.pyplot as plt\n",
    "%matplotlib inline"
   ]
  },
  {
   "cell_type": "markdown",
   "metadata": {},
   "source": [
    "## Helper Functions"
   ]
  },
  {
   "cell_type": "code",
   "execution_count": 44,
   "metadata": {},
   "outputs": [],
   "source": [
    "def countsSummary(pdSeries, columns=['Total Cnt', '% of Total']):\n",
    "    df = pd.concat([pdSeries.value_counts(), pdSeries.value_counts(normalize=True)], axis=1)\n",
    "    df.columns = columns\n",
    "    print(df)\n",
    "\n",
    "def groupbySummary(pdSeries1, pdSeries2, ignore=None, columns=['Total', '% of Total']):\n",
    "    s = pdSeries1.groupby(pdSeries2)\n",
    "    if ignore != None:\n",
    "        inds = [i for i,val in enumerate(pdSeries1) if val != ignore]\n",
    "        t = pdSeries1[inds].groupby(pdSeries2)\n",
    "        df = pd.concat([s.count(), s.mean(), t.count()], axis=1)\n",
    "        if len(columns) == 2:\n",
    "            columns.append('Cnt of Total')\n",
    "    else:\n",
    "        df = pd.concat([s.count(), s.mean()], axis=1)\n",
    "    df.columns = columns\n",
    "    print(df)\n",
    "    return sns.countplot(pdSeries2, hue=pdSeries1)\n",
    "\n",
    "def groupbyCutSummary(pdSeries1, pdSeries2, cutLen):\n",
    "    s = pd.qcut(pdSeries2,cutLen)\n",
    "    t = pdSeries1.groupby(s)\n",
    "    print(t.value_counts())\n",
    "#     print(t.mean())\n",
    "    plt.figure(figsize=(8,4))\n",
    "    return sns.countplot(s, hue=pdSeries1)"
   ]
  },
  {
   "cell_type": "markdown",
   "metadata": {},
   "source": [
    "## Data Exploration"
   ]
  },
  {
   "cell_type": "code",
   "execution_count": 2,
   "metadata": {},
   "outputs": [
    {
     "name": "stderr",
     "output_type": "stream",
     "text": [
      "/usr/local/lib/python3.6/site-packages/IPython/core/interactiveshell.py:2728: DtypeWarning: Columns (19,55) have mixed types. Specify dtype option on import or set low_memory=False.\n",
      "  interactivity=interactivity, compiler=compiler, result=result)\n"
     ]
    }
   ],
   "source": [
    "data = pd.read_csv('lending-club-loan-data/loan.csv')"
   ]
  },
  {
   "cell_type": "code",
   "execution_count": 42,
   "metadata": {},
   "outputs": [
    {
     "data": {
      "text/plain": [
       "(887379, 74)"
      ]
     },
     "execution_count": 42,
     "metadata": {},
     "output_type": "execute_result"
    }
   ],
   "source": [
    "data.shape"
   ]
  },
  {
   "cell_type": "code",
   "execution_count": 3,
   "metadata": {},
   "outputs": [
    {
     "data": {
      "text/html": [
       "<div>\n",
       "<style>\n",
       "    .dataframe thead tr:only-child th {\n",
       "        text-align: right;\n",
       "    }\n",
       "\n",
       "    .dataframe thead th {\n",
       "        text-align: left;\n",
       "    }\n",
       "\n",
       "    .dataframe tbody tr th {\n",
       "        vertical-align: top;\n",
       "    }\n",
       "</style>\n",
       "<table border=\"1\" class=\"dataframe\">\n",
       "  <thead>\n",
       "    <tr style=\"text-align: right;\">\n",
       "      <th></th>\n",
       "      <th>id</th>\n",
       "      <th>member_id</th>\n",
       "      <th>loan_amnt</th>\n",
       "      <th>funded_amnt</th>\n",
       "      <th>funded_amnt_inv</th>\n",
       "      <th>term</th>\n",
       "      <th>int_rate</th>\n",
       "      <th>installment</th>\n",
       "      <th>grade</th>\n",
       "      <th>sub_grade</th>\n",
       "      <th>...</th>\n",
       "      <th>total_bal_il</th>\n",
       "      <th>il_util</th>\n",
       "      <th>open_rv_12m</th>\n",
       "      <th>open_rv_24m</th>\n",
       "      <th>max_bal_bc</th>\n",
       "      <th>all_util</th>\n",
       "      <th>total_rev_hi_lim</th>\n",
       "      <th>inq_fi</th>\n",
       "      <th>total_cu_tl</th>\n",
       "      <th>inq_last_12m</th>\n",
       "    </tr>\n",
       "  </thead>\n",
       "  <tbody>\n",
       "    <tr>\n",
       "      <th>0</th>\n",
       "      <td>1077501</td>\n",
       "      <td>1296599</td>\n",
       "      <td>5000.0</td>\n",
       "      <td>5000.0</td>\n",
       "      <td>4975.0</td>\n",
       "      <td>36 months</td>\n",
       "      <td>10.65</td>\n",
       "      <td>162.87</td>\n",
       "      <td>B</td>\n",
       "      <td>B2</td>\n",
       "      <td>...</td>\n",
       "      <td>NaN</td>\n",
       "      <td>NaN</td>\n",
       "      <td>NaN</td>\n",
       "      <td>NaN</td>\n",
       "      <td>NaN</td>\n",
       "      <td>NaN</td>\n",
       "      <td>NaN</td>\n",
       "      <td>NaN</td>\n",
       "      <td>NaN</td>\n",
       "      <td>NaN</td>\n",
       "    </tr>\n",
       "    <tr>\n",
       "      <th>1</th>\n",
       "      <td>1077430</td>\n",
       "      <td>1314167</td>\n",
       "      <td>2500.0</td>\n",
       "      <td>2500.0</td>\n",
       "      <td>2500.0</td>\n",
       "      <td>60 months</td>\n",
       "      <td>15.27</td>\n",
       "      <td>59.83</td>\n",
       "      <td>C</td>\n",
       "      <td>C4</td>\n",
       "      <td>...</td>\n",
       "      <td>NaN</td>\n",
       "      <td>NaN</td>\n",
       "      <td>NaN</td>\n",
       "      <td>NaN</td>\n",
       "      <td>NaN</td>\n",
       "      <td>NaN</td>\n",
       "      <td>NaN</td>\n",
       "      <td>NaN</td>\n",
       "      <td>NaN</td>\n",
       "      <td>NaN</td>\n",
       "    </tr>\n",
       "    <tr>\n",
       "      <th>2</th>\n",
       "      <td>1077175</td>\n",
       "      <td>1313524</td>\n",
       "      <td>2400.0</td>\n",
       "      <td>2400.0</td>\n",
       "      <td>2400.0</td>\n",
       "      <td>36 months</td>\n",
       "      <td>15.96</td>\n",
       "      <td>84.33</td>\n",
       "      <td>C</td>\n",
       "      <td>C5</td>\n",
       "      <td>...</td>\n",
       "      <td>NaN</td>\n",
       "      <td>NaN</td>\n",
       "      <td>NaN</td>\n",
       "      <td>NaN</td>\n",
       "      <td>NaN</td>\n",
       "      <td>NaN</td>\n",
       "      <td>NaN</td>\n",
       "      <td>NaN</td>\n",
       "      <td>NaN</td>\n",
       "      <td>NaN</td>\n",
       "    </tr>\n",
       "    <tr>\n",
       "      <th>3</th>\n",
       "      <td>1076863</td>\n",
       "      <td>1277178</td>\n",
       "      <td>10000.0</td>\n",
       "      <td>10000.0</td>\n",
       "      <td>10000.0</td>\n",
       "      <td>36 months</td>\n",
       "      <td>13.49</td>\n",
       "      <td>339.31</td>\n",
       "      <td>C</td>\n",
       "      <td>C1</td>\n",
       "      <td>...</td>\n",
       "      <td>NaN</td>\n",
       "      <td>NaN</td>\n",
       "      <td>NaN</td>\n",
       "      <td>NaN</td>\n",
       "      <td>NaN</td>\n",
       "      <td>NaN</td>\n",
       "      <td>NaN</td>\n",
       "      <td>NaN</td>\n",
       "      <td>NaN</td>\n",
       "      <td>NaN</td>\n",
       "    </tr>\n",
       "    <tr>\n",
       "      <th>4</th>\n",
       "      <td>1075358</td>\n",
       "      <td>1311748</td>\n",
       "      <td>3000.0</td>\n",
       "      <td>3000.0</td>\n",
       "      <td>3000.0</td>\n",
       "      <td>60 months</td>\n",
       "      <td>12.69</td>\n",
       "      <td>67.79</td>\n",
       "      <td>B</td>\n",
       "      <td>B5</td>\n",
       "      <td>...</td>\n",
       "      <td>NaN</td>\n",
       "      <td>NaN</td>\n",
       "      <td>NaN</td>\n",
       "      <td>NaN</td>\n",
       "      <td>NaN</td>\n",
       "      <td>NaN</td>\n",
       "      <td>NaN</td>\n",
       "      <td>NaN</td>\n",
       "      <td>NaN</td>\n",
       "      <td>NaN</td>\n",
       "    </tr>\n",
       "  </tbody>\n",
       "</table>\n",
       "<p>5 rows × 74 columns</p>\n",
       "</div>"
      ],
      "text/plain": [
       "        id  member_id  loan_amnt  funded_amnt  funded_amnt_inv        term  \\\n",
       "0  1077501    1296599     5000.0       5000.0           4975.0   36 months   \n",
       "1  1077430    1314167     2500.0       2500.0           2500.0   60 months   \n",
       "2  1077175    1313524     2400.0       2400.0           2400.0   36 months   \n",
       "3  1076863    1277178    10000.0      10000.0          10000.0   36 months   \n",
       "4  1075358    1311748     3000.0       3000.0           3000.0   60 months   \n",
       "\n",
       "   int_rate  installment grade sub_grade     ...      total_bal_il il_util  \\\n",
       "0     10.65       162.87     B        B2     ...               NaN     NaN   \n",
       "1     15.27        59.83     C        C4     ...               NaN     NaN   \n",
       "2     15.96        84.33     C        C5     ...               NaN     NaN   \n",
       "3     13.49       339.31     C        C1     ...               NaN     NaN   \n",
       "4     12.69        67.79     B        B5     ...               NaN     NaN   \n",
       "\n",
       "  open_rv_12m  open_rv_24m max_bal_bc all_util total_rev_hi_lim inq_fi  \\\n",
       "0         NaN          NaN        NaN      NaN              NaN    NaN   \n",
       "1         NaN          NaN        NaN      NaN              NaN    NaN   \n",
       "2         NaN          NaN        NaN      NaN              NaN    NaN   \n",
       "3         NaN          NaN        NaN      NaN              NaN    NaN   \n",
       "4         NaN          NaN        NaN      NaN              NaN    NaN   \n",
       "\n",
       "  total_cu_tl inq_last_12m  \n",
       "0         NaN          NaN  \n",
       "1         NaN          NaN  \n",
       "2         NaN          NaN  \n",
       "3         NaN          NaN  \n",
       "4         NaN          NaN  \n",
       "\n",
       "[5 rows x 74 columns]"
      ]
     },
     "execution_count": 3,
     "metadata": {},
     "output_type": "execute_result"
    }
   ],
   "source": [
    "data.head()"
   ]
  },
  {
   "cell_type": "code",
   "execution_count": 36,
   "metadata": {},
   "outputs": [
    {
     "data": {
      "text/plain": [
       "array(['acc_now_delinq', 'addr_state', 'all_util', 'annual_inc',\n",
       "       'annual_inc_joint', 'application_type', 'collection_recovery_fee',\n",
       "       'collections_12_mths_ex_med', 'delinq_2yrs', 'desc', 'dti',\n",
       "       'dti_joint', 'earliest_cr_line', 'emp_length', 'emp_title',\n",
       "       'funded_amnt', 'funded_amnt_inv', 'grade', 'home_ownership', 'id',\n",
       "       'il_util', 'initial_list_status', 'inq_fi', 'inq_last_12m',\n",
       "       'inq_last_6mths', 'installment', 'int_rate', 'issue_d',\n",
       "       'last_credit_pull_d', 'last_pymnt_amnt', 'last_pymnt_d',\n",
       "       'loan_amnt', 'loan_status', 'max_bal_bc', 'member_id',\n",
       "       'mths_since_last_delinq', 'mths_since_last_major_derog',\n",
       "       'mths_since_last_record', 'mths_since_rcnt_il', 'next_pymnt_d',\n",
       "       'open_acc', 'open_acc_6m', 'open_il_12m', 'open_il_24m',\n",
       "       'open_il_6m', 'open_rv_12m', 'open_rv_24m', 'out_prncp',\n",
       "       'out_prncp_inv', 'policy_code', 'pub_rec', 'purpose', 'pymnt_plan',\n",
       "       'recoveries', 'revol_bal', 'revol_util', 'sub_grade', 'term',\n",
       "       'title', 'tot_coll_amt', 'tot_cur_bal', 'total_acc', 'total_bal_il',\n",
       "       'total_cu_tl', 'total_pymnt', 'total_pymnt_inv', 'total_rec_int',\n",
       "       'total_rec_late_fee', 'total_rec_prncp', 'total_rev_hi_lim', 'url',\n",
       "       'verification_status', 'verification_status_joint', 'zip_code'], dtype=object)"
      ]
     },
     "execution_count": 36,
     "metadata": {},
     "output_type": "execute_result"
    }
   ],
   "source": [
    "data.columns.values"
   ]
  },
  {
   "cell_type": "code",
   "execution_count": 33,
   "metadata": {},
   "outputs": [
    {
     "name": "stdout",
     "output_type": "stream",
     "text": [
      "   Total Cnt  % of Total\n",
      "B     254535    0.286839\n",
      "C     245860    0.277063\n",
      "A     148202    0.167011\n",
      "D     139542    0.157252\n",
      "E      70705    0.079678\n",
      "F      23046    0.025971\n",
      "G       5489    0.006186\n"
     ]
    }
   ],
   "source": [
    "countsSummary(data.grade)"
   ]
  },
  {
   "cell_type": "code",
   "execution_count": 46,
   "metadata": {},
   "outputs": [
    {
     "name": "stdout",
     "output_type": "stream",
     "text": [
      "inq_last_6mths   funded_amnt_inv                                    \n",
      "(-0.001, 10.62]  Current                                                110051\n",
      "                 Fully Paid                                              53800\n",
      "                 Charged Off                                              8082\n",
      "                 Late (31-120 days)                                       1780\n",
      "                 Issued                                                   1477\n",
      "                 In Grace Period                                          1030\n",
      "                 Does not meet the credit policy. Status:Fully Paid        670\n",
      "                 Late (16-30 days)                                         406\n",
      "                 Does not meet the credit policy. Status:Charged Off       237\n",
      "                 Default                                                   160\n",
      "(10.62, 15.4]    Current                                                116552\n",
      "                 Fully Paid                                              46630\n",
      "                 Charged Off                                              8547\n",
      "                 Late (31-120 days)                                       1991\n",
      "                 Issued                                                   1530\n",
      "                 In Grace Period                                          1109\n",
      "                 Late (16-30 days)                                         404\n",
      "                 Does not meet the credit policy. Status:Fully Paid        396\n",
      "                 Default                                                   199\n",
      "                 Does not meet the credit policy. Status:Charged Off       162\n",
      "(15.4, 19.97]    Current                                                118651\n",
      "                 Fully Paid                                              42972\n",
      "                 Charged Off                                              9348\n",
      "                 Late (31-120 days)                                       2235\n",
      "                 Issued                                                   1582\n",
      "                 In Grace Period                                          1202\n",
      "                 Late (16-30 days)                                         483\n",
      "                 Does not meet the credit policy. Status:Fully Paid        417\n",
      "                 Default                                                   259\n",
      "                 Does not meet the credit policy. Status:Charged Off       174\n",
      "(19.97, 25.53]   Current                                                121476\n",
      "                 Fully Paid                                              38882\n",
      "                 Charged Off                                             10310\n",
      "                 Late (31-120 days)                                       2492\n",
      "                 Issued                                                   1686\n",
      "                 In Grace Period                                          1336\n",
      "                 Late (16-30 days)                                         490\n",
      "                 Does not meet the credit policy. Status:Fully Paid        412\n",
      "                 Default                                                   278\n",
      "                 Does not meet the credit policy. Status:Charged Off       157\n",
      "(25.53, 9999.0]  Current                                                135049\n",
      "                 Fully Paid                                              25439\n",
      "                 Charged Off                                              8961\n",
      "                 Late (31-120 days)                                       3093\n",
      "                 Issued                                                   2185\n",
      "                 In Grace Period                                          1576\n",
      "                 Late (16-30 days)                                         574\n",
      "                 Default                                                   323\n",
      "                 Does not meet the credit policy. Status:Fully Paid         93\n",
      "                 Does not meet the credit policy. Status:Charged Off        31\n",
      "Name: funded_amnt_inv, dtype: int64\n"
     ]
    },
    {
     "data": {
      "text/plain": [
       "<matplotlib.axes._subplots.AxesSubplot at 0x11dac8940>"
      ]
     },
     "execution_count": 46,
     "metadata": {},
     "output_type": "execute_result"
    },
    {
     "data": {
      "image/png": "[encoded data removed]",
      "text/plain": [
       "<matplotlib.figure.Figure at 0x11cbeceb8>"
      ]
     },
     "metadata": {},
     "output_type": "display_data"
    }
   ],
   "source": [
    "groupbyCutSummary(data.loan_status, data.dti, 5)"
   ]
  },
  {
   "cell_type": "code",
   "execution_count": null,
   "metadata": {},
   "outputs": [],
   "source": [
    "# Verification_Status w/ DTI w/ Income"
   ]
  }
 ],
 "metadata": {
  "kernelspec": {
   "display_name": "Python 3",
   "language": "python",
   "name": "python3"
  },
  "language_info": {
   "codemirror_mode": {
    "name": "ipython",
    "version": 3
   },
   "file_extension": ".py",
   "mimetype": "text/x-python",
   "name": "python",
   "nbconvert_exporter": "python",
   "pygments_lexer": "ipython3",
   "version": "3.6.1"
  }
 },
 "nbformat": 4,
 "nbformat_minor": 2
}
