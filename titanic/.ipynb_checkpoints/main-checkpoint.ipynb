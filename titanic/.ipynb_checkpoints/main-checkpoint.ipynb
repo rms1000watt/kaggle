{
 "cells": [
  {
   "cell_type": "markdown",
   "metadata": {
    "deletable": true,
    "editable": true
   },
   "source": [
    "# Titanic\n",
    "\n",
    "This is the beginning of my first notebook. I'm going to blaze through the code without much explanation.. because explanation should be fairly obvious based on the function names. Also, this project is just to get my feet wet, not necessarily teach anyone anything.\n",
    "\n",
    "## TOC\n",
    "\n",
    "- References\n",
    "- Helper Functions\n",
    "- Exploration\n",
    "  - Survived\n",
    "  - Survival by Pclass\n",
    "  - Survival by ...\n",
    "\n",
    "## References\n",
    "\n",
    "- [Kaggle: Titanic Random Forest](https://www.kaggle.com/zlatankr/titanic/titanic-random-forest-82-78)\n",
    "- [Kaggle: Titanic Best Working Classifier](https://www.kaggle.com/sinakhorami/titanic/titanic-best-working-classifier)\n",
    "- [Kaggle: Intro Ensemble Stacking](https://www.kaggle.com/arthurtok/titanic/introduction-to-ensembling-stacking-in-python)"
   ]
  },
  {
   "cell_type": "markdown",
   "metadata": {
    "deletable": true,
    "editable": true
   },
   "source": [
    "## Helper Functions"
   ]
  },
  {
   "cell_type": "code",
   "execution_count": 1,
   "metadata": {
    "collapsed": false,
    "deletable": true,
    "editable": true
   },
   "outputs": [],
   "source": [
    "def countsSummary(pdSeries, columns=['Total Cnt', '% of Total']):\n",
    "    df = pd.concat([pdSeries.value_counts(), pdSeries.value_counts(normalize=True)], axis=1)\n",
    "    df.columns = columns\n",
    "    print df\n",
    "\n",
    "def groupbySummary(pdSeries1, pdSeries2, ignore=None, columns=['Total', '% of Total']):\n",
    "    s = pdSeries1.groupby(pdSeries2)\n",
    "    if ignore != None:\n",
    "        inds = [i for i,val in enumerate(pdSeries1) if val != ignore]\n",
    "        t = pdSeries1[inds].groupby(pdSeries2)\n",
    "        df = pd.concat([s.count(), s.mean(), t.count()], axis=1)\n",
    "        if len(columns) == 2:\n",
    "            columns.append('Cnt of Total')\n",
    "    else:\n",
    "        df = pd.concat([s.count(), s.mean()], axis=1)\n",
    "    df.columns = columns\n",
    "    print df\n",
    "    return sns.countplot(pdSeries2, hue=pdSeries1)\n",
    "\n",
    "def groupbyCutSummary(pdSeries1, pdSeries2, cutLen):\n",
    "    s = pd.qcut(pdSeries2,cutLen)\n",
    "    t = pdSeries1.groupby(s)\n",
    "    print t.value_counts()\n",
    "    print t.mean()\n",
    "    return sns.countplot(s, hue=pdSeries1)"
   ]
  },
  {
   "cell_type": "markdown",
   "metadata": {
    "deletable": true,
    "editable": true
   },
   "source": [
    "## Exploration\n",
    "\n",
    "- Import libraries\n",
    "- Load data\n",
    "- Move from Left to Right exploring each column and generate extra columns as necessary"
   ]
  },
  {
   "cell_type": "code",
   "execution_count": 2,
   "metadata": {
    "collapsed": true,
    "deletable": true,
    "editable": true
   },
   "outputs": [],
   "source": [
    "import os\n",
    "import ryan\n",
    "import numpy as np\n",
    "import pandas as pd\n",
    "import seaborn as sns\n",
    "import matplotlib.pyplot as plt\n",
    "%matplotlib inline"
   ]
  },
  {
   "cell_type": "code",
   "execution_count": 3,
   "metadata": {
    "collapsed": true,
    "deletable": true,
    "editable": true
   },
   "outputs": [],
   "source": [
    "test = pd.read_csv('test.csv')\n",
    "train = pd.read_csv('train.csv')"
   ]
  },
  {
   "cell_type": "code",
   "execution_count": 4,
   "metadata": {
    "collapsed": false,
    "deletable": true,
    "editable": true
   },
   "outputs": [
    {
     "data": {
      "text/html": [
       "<div>\n",
       "<table border=\"1\" class=\"dataframe\">\n",
       "  <thead>\n",
       "    <tr style=\"text-align: right;\">\n",
       "      <th></th>\n",
       "      <th>PassengerId</th>\n",
       "      <th>Survived</th>\n",
       "      <th>Pclass</th>\n",
       "      <th>Name</th>\n",
       "      <th>Sex</th>\n",
       "      <th>Age</th>\n",
       "      <th>SibSp</th>\n",
       "      <th>Parch</th>\n",
       "      <th>Ticket</th>\n",
       "      <th>Fare</th>\n",
       "      <th>Cabin</th>\n",
       "      <th>Embarked</th>\n",
       "    </tr>\n",
       "  </thead>\n",
       "  <tbody>\n",
       "    <tr>\n",
       "      <th>0</th>\n",
       "      <td>1</td>\n",
       "      <td>0</td>\n",
       "      <td>3</td>\n",
       "      <td>Braund, Mr. Owen Harris</td>\n",
       "      <td>male</td>\n",
       "      <td>22.0</td>\n",
       "      <td>1</td>\n",
       "      <td>0</td>\n",
       "      <td>A/5 21171</td>\n",
       "      <td>7.2500</td>\n",
       "      <td>NaN</td>\n",
       "      <td>S</td>\n",
       "    </tr>\n",
       "    <tr>\n",
       "      <th>1</th>\n",
       "      <td>2</td>\n",
       "      <td>1</td>\n",
       "      <td>1</td>\n",
       "      <td>Cumings, Mrs. John Bradley (Florence Briggs Th...</td>\n",
       "      <td>female</td>\n",
       "      <td>38.0</td>\n",
       "      <td>1</td>\n",
       "      <td>0</td>\n",
       "      <td>PC 17599</td>\n",
       "      <td>71.2833</td>\n",
       "      <td>C85</td>\n",
       "      <td>C</td>\n",
       "    </tr>\n",
       "    <tr>\n",
       "      <th>2</th>\n",
       "      <td>3</td>\n",
       "      <td>1</td>\n",
       "      <td>3</td>\n",
       "      <td>Heikkinen, Miss. Laina</td>\n",
       "      <td>female</td>\n",
       "      <td>26.0</td>\n",
       "      <td>0</td>\n",
       "      <td>0</td>\n",
       "      <td>STON/O2. 3101282</td>\n",
       "      <td>7.9250</td>\n",
       "      <td>NaN</td>\n",
       "      <td>S</td>\n",
       "    </tr>\n",
       "    <tr>\n",
       "      <th>3</th>\n",
       "      <td>4</td>\n",
       "      <td>1</td>\n",
       "      <td>1</td>\n",
       "      <td>Futrelle, Mrs. Jacques Heath (Lily May Peel)</td>\n",
       "      <td>female</td>\n",
       "      <td>35.0</td>\n",
       "      <td>1</td>\n",
       "      <td>0</td>\n",
       "      <td>113803</td>\n",
       "      <td>53.1000</td>\n",
       "      <td>C123</td>\n",
       "      <td>S</td>\n",
       "    </tr>\n",
       "    <tr>\n",
       "      <th>4</th>\n",
       "      <td>5</td>\n",
       "      <td>0</td>\n",
       "      <td>3</td>\n",
       "      <td>Allen, Mr. William Henry</td>\n",
       "      <td>male</td>\n",
       "      <td>35.0</td>\n",
       "      <td>0</td>\n",
       "      <td>0</td>\n",
       "      <td>373450</td>\n",
       "      <td>8.0500</td>\n",
       "      <td>NaN</td>\n",
       "      <td>S</td>\n",
       "    </tr>\n",
       "  </tbody>\n",
       "</table>\n",
       "</div>"
      ],
      "text/plain": [
       "   PassengerId  Survived  Pclass  \\\n",
       "0            1         0       3   \n",
       "1            2         1       1   \n",
       "2            3         1       3   \n",
       "3            4         1       1   \n",
       "4            5         0       3   \n",
       "\n",
       "                                                Name     Sex   Age  SibSp  \\\n",
       "0                            Braund, Mr. Owen Harris    male  22.0      1   \n",
       "1  Cumings, Mrs. John Bradley (Florence Briggs Th...  female  38.0      1   \n",
       "2                             Heikkinen, Miss. Laina  female  26.0      0   \n",
       "3       Futrelle, Mrs. Jacques Heath (Lily May Peel)  female  35.0      1   \n",
       "4                           Allen, Mr. William Henry    male  35.0      0   \n",
       "\n",
       "   Parch            Ticket     Fare Cabin Embarked  \n",
       "0      0         A/5 21171   7.2500   NaN        S  \n",
       "1      0          PC 17599  71.2833   C85        C  \n",
       "2      0  STON/O2. 3101282   7.9250   NaN        S  \n",
       "3      0            113803  53.1000  C123        S  \n",
       "4      0            373450   8.0500   NaN        S  "
      ]
     },
     "execution_count": 4,
     "metadata": {},
     "output_type": "execute_result"
    }
   ],
   "source": [
    "train.head()"
   ]
  },
  {
   "cell_type": "markdown",
   "metadata": {
    "deletable": true,
    "editable": true
   },
   "source": [
    "### `Survived`"
   ]
  },
  {
   "cell_type": "code",
   "execution_count": 5,
   "metadata": {
    "collapsed": false,
    "deletable": true,
    "editable": true
   },
   "outputs": [
    {
     "name": "stdout",
     "output_type": "stream",
     "text": [
      "   Total Cnt  % of Total\n",
      "0        549    0.616162\n",
      "1        342    0.383838\n"
     ]
    }
   ],
   "source": [
    "countsSummary(train['Survived'])"
   ]
  },
  {
   "cell_type": "markdown",
   "metadata": {
    "deletable": true,
    "editable": true
   },
   "source": [
    "### Survival by `Pclass`"
   ]
  },
  {
   "cell_type": "code",
   "execution_count": 6,
   "metadata": {
    "collapsed": false,
    "deletable": true,
    "editable": true
   },
   "outputs": [
    {
     "name": "stdout",
     "output_type": "stream",
     "text": [
      "        Total  % of Total  Cnt of Total\n",
      "Pclass                                 \n",
      "1         216    0.629630           136\n",
      "2         184    0.472826            87\n",
      "3         491    0.242363           119\n"
     ]
    },
    {
     "data": {
      "text/plain": [
       "<matplotlib.axes._subplots.AxesSubplot at 0x10b217c50>"
      ]
     },
     "execution_count": 6,
     "metadata": {},
     "output_type": "execute_result"
    },
    {
     "data": {
      "image/png": "[encoded data removed]",
      "text/plain": [
       "<matplotlib.figure.Figure at 0x10b11fa90>"
      ]
     },
     "metadata": {},
     "output_type": "display_data"
    }
   ],
   "source": [
    "groupbySummary(train['Survived'], train['Pclass'], 0)"
   ]
  },
  {
   "cell_type": "markdown",
   "metadata": {
    "deletable": true,
    "editable": true
   },
   "source": [
    "### Survival by `Name_Title`"
   ]
  },
  {
   "cell_type": "code",
   "execution_count": 7,
   "metadata": {
    "collapsed": false,
    "deletable": true,
    "editable": true
   },
   "outputs": [
    {
     "data": {
      "text/plain": [
       "0                              Braund, Mr. Owen Harris\n",
       "1    Cumings, Mrs. John Bradley (Florence Briggs Th...\n",
       "2                               Heikkinen, Miss. Laina\n",
       "3         Futrelle, Mrs. Jacques Heath (Lily May Peel)\n",
       "4                             Allen, Mr. William Henry\n",
       "Name: Name, dtype: object"
      ]
     },
     "execution_count": 7,
     "metadata": {},
     "output_type": "execute_result"
    }
   ],
   "source": [
    "train['Name'].head()"
   ]
  },
  {
   "cell_type": "code",
   "execution_count": 8,
   "metadata": {
    "collapsed": false,
    "deletable": true,
    "editable": true
   },
   "outputs": [
    {
     "name": "stdout",
     "output_type": "stream",
     "text": [
      "           Total  % of Total  Cnt of Total\n",
      "Capt.          1    0.000000           NaN\n",
      "Col.           2    0.500000           1.0\n",
      "Don.           1    0.000000           NaN\n",
      "Dr.            7    0.428571           3.0\n",
      "Jonkheer.      1    0.000000           NaN\n",
      "Lady.          1    1.000000           1.0\n",
      "Major.         2    0.500000           1.0\n",
      "Master.       40    0.575000          23.0\n",
      "Miss.        182    0.697802         127.0\n",
      "Mlle.          2    1.000000           2.0\n",
      "Mme.           1    1.000000           1.0\n",
      "Mr.          517    0.156673          81.0\n",
      "Mrs.         125    0.792000          99.0\n",
      "Ms.            1    1.000000           1.0\n",
      "Rev.           6    0.000000           NaN\n",
      "Sir.           1    1.000000           1.0\n",
      "the            1    1.000000           1.0\n"
     ]
    },
    {
     "data": {
      "text/plain": [
       "<matplotlib.axes._subplots.AxesSubplot at 0x10b550310>"
      ]
     },
     "execution_count": 8,
     "metadata": {},
     "output_type": "execute_result"
    },
    {
     "data": {
      "image/png": "[encoded data removed]",
      "text/plain": [
       "<matplotlib.figure.Figure at 0x10aefe810>"
      ]
     },
     "metadata": {},
     "output_type": "display_data"
    }
   ],
   "source": [
    "train['Name_Title'] = train['Name'].apply(lambda x: x.split(',')[1]).apply(lambda x: x.split()[0])\n",
    "groupbySummary(train['Survived'], train['Name_Title'], 0)"
   ]
  },
  {
   "cell_type": "markdown",
   "metadata": {
    "deletable": true,
    "editable": true
   },
   "source": [
    "### Survival by `Name_Length`"
   ]
  },
  {
   "cell_type": "code",
   "execution_count": 9,
   "metadata": {
    "collapsed": false,
    "deletable": true,
    "editable": true
   },
   "outputs": [
    {
     "name": "stdout",
     "output_type": "stream",
     "text": [
      "Name_Length  Survived\n",
      "[12, 19]     0           159\n",
      "             1            45\n",
      "(19, 23]     0           109\n",
      "             1            47\n",
      "(23, 27]     0           134\n",
      "             1            63\n",
      "(27, 32]     0            92\n",
      "             1            73\n",
      "(32, 82]     1           114\n",
      "             0            55\n",
      "Name: Survived, dtype: int64\n",
      "Name_Length\n",
      "[12, 19]    0.220588\n",
      "(19, 23]    0.301282\n",
      "(23, 27]    0.319797\n",
      "(27, 32]    0.442424\n",
      "(32, 82]    0.674556\n",
      "Name: Survived, dtype: float64\n"
     ]
    },
    {
     "data": {
      "text/plain": [
       "<matplotlib.axes._subplots.AxesSubplot at 0x10b69e910>"
      ]
     },
     "execution_count": 9,
     "metadata": {},
     "output_type": "execute_result"
    },
    {
     "data": {
      "image/png": "[encoded data removed]",
      "text/plain": [
       "<matplotlib.figure.Figure at 0x10b6a9f50>"
      ]
     },
     "metadata": {},
     "output_type": "display_data"
    }
   ],
   "source": [
    "train['Name_Length'] = train['Name'].apply(lambda x: len(x))\n",
    "groupbyCutSummary(train['Survived'], train['Name_Length'], 5)"
   ]
  },
  {
   "cell_type": "markdown",
   "metadata": {},
   "source": [
    "### Survival by `Sex`"
   ]
  },
  {
   "cell_type": "code",
   "execution_count": 16,
   "metadata": {
    "collapsed": false
   },
   "outputs": [
    {
     "name": "stdout",
     "output_type": "stream",
     "text": [
      "        Total  % of Total  Cnt of Total\n",
      "Sex                                    \n",
      "female    314    0.742038           233\n",
      "male      577    0.188908           109\n"
     ]
    },
    {
     "data": {
      "text/plain": [
       "<matplotlib.axes._subplots.AxesSubplot at 0x10c0a0c50>"
      ]
     },
     "execution_count": 16,
     "metadata": {},
     "output_type": "execute_result"
    },
    {
     "data": {
      "image/png": "[encoded data removed]",
      "text/plain": [
       "<matplotlib.figure.Figure at 0x10bffef10>"
      ]
     },
     "metadata": {},
     "output_type": "display_data"
    }
   ],
   "source": [
    "groupbySummary(train['Survived'], train['Sex'], 0)"
   ]
  },
  {
   "cell_type": "markdown",
   "metadata": {},
   "source": [
    "### Survival by `Age`"
   ]
  },
  {
   "cell_type": "code",
   "execution_count": 10,
   "metadata": {
    "collapsed": false
   },
   "outputs": [
    {
     "name": "stdout",
     "output_type": "stream",
     "text": [
      "Age         Survived\n",
      "[0.42, 19]  0           85\n",
      "            1           79\n",
      "(19, 25]    0           92\n",
      "            1           45\n",
      "(25, 31.8]  0           77\n",
      "            1           50\n",
      "(31.8, 41]  0           81\n",
      "            1           63\n",
      "(41, 80]    0           89\n",
      "            1           53\n",
      "Name: Survived, dtype: int64\n",
      "Age\n",
      "[0.42, 19]    0.481707\n",
      "(19, 25]      0.328467\n",
      "(25, 31.8]    0.393701\n",
      "(31.8, 41]    0.437500\n",
      "(41, 80]      0.373239\n",
      "Name: Survived, dtype: float64\n"
     ]
    },
    {
     "data": {
      "text/plain": [
       "<matplotlib.axes._subplots.AxesSubplot at 0x10b840950>"
      ]
     },
     "execution_count": 10,
     "metadata": {},
     "output_type": "execute_result"
    },
    {
     "data": {
      "image/png": "[encoded data removed]",
      "text/plain": [
       "<matplotlib.figure.Figure at 0x10b33d990>"
      ]
     },
     "metadata": {},
     "output_type": "display_data"
    }
   ],
   "source": [
    "groupbyCutSummary(train['Survived'], train['Age'], 5)"
   ]
  },
  {
   "cell_type": "markdown",
   "metadata": {},
   "source": [
    "### Survival by `SibSp`"
   ]
  },
  {
   "cell_type": "code",
   "execution_count": 13,
   "metadata": {
    "collapsed": false
   },
   "outputs": [
    {
     "name": "stdout",
     "output_type": "stream",
     "text": [
      "       Total  % of Total  Cnt of Total\n",
      "SibSp                                 \n",
      "0        608    0.345395         210.0\n",
      "1        209    0.535885         112.0\n",
      "2         28    0.464286          13.0\n",
      "3         16    0.250000           4.0\n",
      "4         18    0.166667           3.0\n",
      "5          5    0.000000           NaN\n",
      "8          7    0.000000           NaN\n"
     ]
    },
    {
     "data": {
      "text/plain": [
       "<matplotlib.axes._subplots.AxesSubplot at 0x10bb49550>"
      ]
     },
     "execution_count": 13,
     "metadata": {},
     "output_type": "execute_result"
    },
    {
     "data": {
      "image/png": "[encoded data removed]",
      "text/plain": [
       "<matplotlib.figure.Figure at 0x10b3f1050>"
      ]
     },
     "metadata": {},
     "output_type": "display_data"
    }
   ],
   "source": [
    "groupbySummary(train['Survived'], train['SibSp'], 0)"
   ]
  },
  {
   "cell_type": "markdown",
   "metadata": {},
   "source": [
    "### Survival by `Parch`"
   ]
  },
  {
   "cell_type": "code",
   "execution_count": 14,
   "metadata": {
    "collapsed": false
   },
   "outputs": [
    {
     "name": "stdout",
     "output_type": "stream",
     "text": [
      "       Total  % of Total  Cnt of Total\n",
      "Parch                                 \n",
      "0        678    0.343658         233.0\n",
      "1        118    0.550847          65.0\n",
      "2         80    0.500000          40.0\n",
      "3          5    0.600000           3.0\n",
      "4          4    0.000000           NaN\n",
      "5          5    0.200000           1.0\n",
      "6          1    0.000000           NaN\n"
     ]
    },
    {
     "data": {
      "text/plain": [
       "<matplotlib.axes._subplots.AxesSubplot at 0x10bd12d50>"
      ]
     },
     "execution_count": 14,
     "metadata": {},
     "output_type": "execute_result"
    },
    {
     "data": {
      "image/png": "[encoded data removed]",
      "text/plain": [
       "<matplotlib.figure.Figure at 0x10bcf0bd0>"
      ]
     },
     "metadata": {},
     "output_type": "display_data"
    }
   ],
   "source": [
    "groupbySummary(train['Survived'],train['Parch'], 0)"
   ]
  },
  {
   "cell_type": "markdown",
   "metadata": {
    "collapsed": true,
    "deletable": true,
    "editable": true
   },
   "source": [
    "### Survival by `Ticket_First`"
   ]
  },
  {
   "cell_type": "code",
   "execution_count": 11,
   "metadata": {
    "collapsed": false
   },
   "outputs": [
    {
     "data": {
      "text/plain": [
       "0           A/5 21171\n",
       "1            PC 17599\n",
       "2    STON/O2. 3101282\n",
       "3              113803\n",
       "4              373450\n",
       "Name: Ticket, dtype: object"
      ]
     },
     "execution_count": 11,
     "metadata": {},
     "output_type": "execute_result"
    }
   ],
   "source": [
    "train['Ticket'].head()"
   ]
  },
  {
   "cell_type": "code",
   "execution_count": 12,
   "metadata": {
    "collapsed": false
   },
   "outputs": [
    {
     "name": "stdout",
     "output_type": "stream",
     "text": [
      "   Total  % of Total  Cnt of Total\n",
      "1    146    0.630137          92.0\n",
      "2    183    0.464481          85.0\n",
      "3    301    0.239203          72.0\n",
      "4     10    0.200000           2.0\n",
      "5      3    0.000000           NaN\n",
      "6      6    0.166667           1.0\n",
      "7      9    0.111111           1.0\n",
      "8      2    0.000000           NaN\n",
      "9      1    1.000000           1.0\n",
      "A     29    0.068966           2.0\n",
      "C     47    0.340426          16.0\n",
      "F      7    0.571429           4.0\n",
      "L      4    0.250000           1.0\n",
      "P     65    0.646154          42.0\n",
      "S     65    0.323077          21.0\n",
      "W     13    0.153846           2.0\n"
     ]
    },
    {
     "data": {
      "text/plain": [
       "<matplotlib.axes._subplots.AxesSubplot at 0x10b9812d0>"
      ]
     },
     "execution_count": 12,
     "metadata": {},
     "output_type": "execute_result"
    },
    {
     "data": {
      "image/png": "[encoded data removed]",
      "text/plain": [
       "<matplotlib.figure.Figure at 0x10b3f10d0>"
      ]
     },
     "metadata": {},
     "output_type": "display_data"
    }
   ],
   "source": [
    "train['Ticket_First'] = train['Ticket'].apply(lambda x: x[0])\n",
    "groupbySummary(train['Survived'], train['Ticket_First'], 0)"
   ]
  },
  {
   "cell_type": "markdown",
   "metadata": {},
   "source": [
    "### Survival by `Fare`"
   ]
  },
  {
   "cell_type": "code",
   "execution_count": 18,
   "metadata": {
    "collapsed": false
   },
   "outputs": [
    {
     "name": "stdout",
     "output_type": "stream",
     "text": [
      "Fare               Survived\n",
      "[0, 7.55]          0           79\n",
      "                   1           13\n",
      "(7.55, 7.854]      0           61\n",
      "                   1           26\n",
      "(7.854, 8.05]      0           87\n",
      "                   1           19\n",
      "(8.05, 10.5]       0           60\n",
      "                   1           18\n",
      "(10.5, 14.454]     0           48\n",
      "                   1           36\n",
      "(14.454, 21.679]   0           51\n",
      "                   1           37\n",
      "(21.679, 27]       1           46\n",
      "                   0           43\n",
      "(27, 39.688]       0           57\n",
      "                   1           34\n",
      "(39.688, 77.958]   1           47\n",
      "                   0           42\n",
      "(77.958, 512.329]  1           66\n",
      "                   0           21\n",
      "Name: Survived, dtype: int64\n",
      "Fare\n",
      "[0, 7.55]            0.141304\n",
      "(7.55, 7.854]        0.298851\n",
      "(7.854, 8.05]        0.179245\n",
      "(8.05, 10.5]         0.230769\n",
      "(10.5, 14.454]       0.428571\n",
      "(14.454, 21.679]     0.420455\n",
      "(21.679, 27]         0.516854\n",
      "(27, 39.688]         0.373626\n",
      "(39.688, 77.958]     0.528090\n",
      "(77.958, 512.329]    0.758621\n",
      "Name: Survived, dtype: float64\n"
     ]
    },
    {
     "data": {
      "text/plain": [
       "<matplotlib.axes._subplots.AxesSubplot at 0x10c6b0a10>"
      ]
     },
     "execution_count": 18,
     "metadata": {},
     "output_type": "execute_result"
    },
    {
     "data": {
      "image/png": "[encoded data removed]",
      "text/plain": [
       "<matplotlib.figure.Figure at 0x10c761210>"
      ]
     },
     "metadata": {},
     "output_type": "display_data"
    }
   ],
   "source": [
    "groupbyCutSummary(train['Survived'], train['Fare'], 10)"
   ]
  },
  {
   "cell_type": "markdown",
   "metadata": {},
   "source": [
    "You'd think `Ticket_First` and `Fare` would have a strong relation. This calc is just for the sake of curiosity. (`P` and `1` have high survival rates and counts.)"
   ]
  },
  {
   "cell_type": "code",
   "execution_count": 21,
   "metadata": {
    "collapsed": false
   },
   "outputs": [
    {
     "name": "stdout",
     "output_type": "stream",
     "text": [
      "Fare               Ticket_First\n",
      "[0, 7.854]         False           179\n",
      "(7.854, 10.5]      False           183\n",
      "                   True              1\n",
      "(10.5, 21.679]     False           170\n",
      "                   True              2\n",
      "(21.679, 39.688]   False           164\n",
      "                   True             16\n",
      "(39.688, 512.329]  False           130\n",
      "                   True             46\n",
      "Name: Ticket_First, dtype: int64\n",
      "Fare\n",
      "[0, 7.854]           0.000000\n",
      "(7.854, 10.5]        0.005435\n",
      "(10.5, 21.679]       0.011628\n",
      "(21.679, 39.688]     0.088889\n",
      "(39.688, 512.329]    0.261364\n",
      "Name: Ticket_First, dtype: float64\n"
     ]
    },
    {
     "data": {
      "text/plain": [
       "<matplotlib.axes._subplots.AxesSubplot at 0x10cc3cd10>"
      ]
     },
     "execution_count": 21,
     "metadata": {},
     "output_type": "execute_result"
    },
    {
     "data": {
      "image/png": "[encoded data removed]",
      "text/plain": [
       "<matplotlib.figure.Figure at 0x10c634090>"
      ]
     },
     "metadata": {},
     "output_type": "display_data"
    }
   ],
   "source": [
    "groupbyCutSummary(train['Ticket_First'].apply(lambda x: x == 'P'), train['Fare'], 5)"
   ]
  },
  {
   "cell_type": "markdown",
   "metadata": {},
   "source": [
    "### Surivival by `Cabin`"
   ]
  },
  {
   "cell_type": "code",
   "execution_count": 28,
   "metadata": {
    "collapsed": false
   },
   "outputs": [
    {
     "name": "stdout",
     "output_type": "stream",
     "text": [
      "    Total  % of Total  Cnt of Total\n",
      "A      15    0.466667           7.0\n",
      "B      47    0.744681          35.0\n",
      "C      59    0.593220          35.0\n",
      "D      33    0.757576          25.0\n",
      "E      32    0.750000          24.0\n",
      "F      13    0.615385           8.0\n",
      "G       4    0.500000           2.0\n",
      "NA    687    0.299854         206.0\n",
      "T       1    0.000000           NaN\n"
     ]
    },
    {
     "data": {
      "text/plain": [
       "<matplotlib.axes._subplots.AxesSubplot at 0x10e029510>"
      ]
     },
     "execution_count": 28,
     "metadata": {},
     "output_type": "execute_result"
    },
    {
     "data": {
      "image/png": "[encoded data removed]",
      "text/plain": [
       "<matplotlib.figure.Figure at 0x10e177250>"
      ]
     },
     "metadata": {},
     "output_type": "display_data"
    }
   ],
   "source": [
    "train['Cabin_First'] = train['Cabin'].apply(lambda x: x[0] if type(x) == type(\"\") else \"NA\")\n",
    "groupbySummary(train['Survived'], train['Cabin_First'], 0)"
   ]
  },
  {
   "cell_type": "markdown",
   "metadata": {},
   "source": [
    "### Survival by `Embarked`"
   ]
  },
  {
   "cell_type": "code",
   "execution_count": 29,
   "metadata": {
    "collapsed": false
   },
   "outputs": [
    {
     "name": "stdout",
     "output_type": "stream",
     "text": [
      "          Total  % of Total  Cnt of Total\n",
      "Embarked                                 \n",
      "C           168    0.553571            93\n",
      "Q            77    0.389610            30\n",
      "S           644    0.336957           217\n"
     ]
    },
    {
     "data": {
      "text/plain": [
       "<matplotlib.axes._subplots.AxesSubplot at 0x10dffca10>"
      ]
     },
     "execution_count": 29,
     "metadata": {},
     "output_type": "execute_result"
    },
    {
     "data": {
      "image/png": "[encoded data removed]",
      "text/plain": [
       "<matplotlib.figure.Figure at 0x10dfba710>"
      ]
     },
     "metadata": {},
     "output_type": "display_data"
    }
   ],
   "source": [
    "groupbySummary(train['Survived'], train['Embarked'], 0)"
   ]
  },
  {
   "cell_type": "code",
   "execution_count": null,
   "metadata": {
    "collapsed": true
   },
   "outputs": [],
   "source": []
  }
 ],
 "metadata": {
  "kernelspec": {
   "display_name": "Python 2",
   "language": "python",
   "name": "python2"
  },
  "language_info": {
   "codemirror_mode": {
    "name": "ipython",
    "version": 2
   },
   "file_extension": ".py",
   "mimetype": "text/x-python",
   "name": "python",
   "nbconvert_exporter": "python",
   "pygments_lexer": "ipython2",
   "version": "2.7.12"
  }
 },
 "nbformat": 4,
 "nbformat_minor": 2
}
